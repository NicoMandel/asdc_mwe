{
 "cells": [
  {
   "cell_type": "code",
   "execution_count": null,
   "id": "8c59dc26",
   "metadata": {},
   "outputs": [],
   "source": [
    "!pip install requirements.txt"
   ]
  },
  {
   "cell_type": "code",
   "execution_count": null,
   "id": "767df23f",
   "metadata": {},
   "outputs": [],
   "source": [
    "import os"
   ]
  },
  {
   "cell_type": "code",
   "execution_count": null,
   "id": "82805a42",
   "metadata": {},
   "outputs": [],
   "source": [
    "# import required functions, classes\n",
    "from sahi.predict import predict"
   ]
  },
  {
   "cell_type": "code",
   "execution_count": null,
   "id": "5bbe6e10",
   "metadata": {},
   "outputs": [],
   "source": [
    "# yolov5_model_path = 'models/yolov5s6.pt'\n",
    "yolov5_model_path = \"yolov5/ohw/combined_m_2/weights/best.pt\"\n",
    "model_type = \"yolov5\"\n",
    "model_path = yolov5_model_path\n",
    "model_device = \"cuda:0\" # or 'cuda:0'\n",
    "model_confidence_threshold = 0.4"
   ]
  },
  {
   "cell_type": "code",
   "execution_count": null,
   "id": "70155b7d",
   "metadata": {},
   "outputs": [],
   "source": [
    "slice_height = 1280\n",
    "slice_width = 1280\n",
    "overlap_height_ratio = 0.3\n",
    "overlap_width_ratio = 0.3"
   ]
  },
  {
   "cell_type": "code",
   "execution_count": null,
   "id": "39f59312",
   "metadata": {},
   "outputs": [],
   "source": [
    "datadir = \"data/OHW/Inference\"\n",
    "source_image_dir = os.path.join(datadir, \"test_ds\") \n",
    "# \"demo_data/\"\n",
    "project = \"SAHI\"\n",
    "name = \"test_ds\""
   ]
  },
  {
   "cell_type": "code",
   "execution_count": null,
   "id": "aa888f31",
   "metadata": {},
   "outputs": [],
   "source": [
    "\"\"\"- Perform sliced inference on given folder:\"\"\"\n",
    "result = predict(\n",
    "    model_type=model_type,\n",
    "    model_path=model_path,\n",
    "\n",
    "    model_device=model_device,\n",
    "    model_confidence_threshold=model_confidence_threshold,\n",
    "    source=source_image_dir,\n",
    "    slice_height=slice_height,\n",
    "    slice_width=slice_width,\n",
    "    overlap_height_ratio=overlap_height_ratio,\n",
    "    overlap_width_ratio=overlap_width_ratio,\n",
    "    project=project,\n",
    "    name=name,\n",
    "    return_dict=True,\n",
    "    novisual=True,\n",
    ")"
   ]
  }
 ],
 "metadata": {
  "jupytext": {
   "cell_metadata_filter": "-all",
   "formats": "ipynb,py",
   "main_language": "python"
  }
 },
 "nbformat": 4,
 "nbformat_minor": 5
}
